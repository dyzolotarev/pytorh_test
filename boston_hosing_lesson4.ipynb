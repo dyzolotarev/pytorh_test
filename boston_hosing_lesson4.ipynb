{
 "cells": [
  {
   "cell_type": "code",
   "execution_count": 3,
   "metadata": {},
   "outputs": [],
   "source": [
    "import tensorflow.keras as keras\n",
    "from tensorflow.keras.datasets import boston_housing\n",
    "from tensorflow.keras import layers"
   ]
  },
  {
   "cell_type": "code",
   "execution_count": 2,
   "metadata": {},
   "outputs": [
    {
     "name": "stdout",
     "output_type": "stream",
     "text": [
      "Downloading data from https://storage.googleapis.com/tensorflow/tf-keras-datasets/boston_housing.npz\n",
      "57344/57026 [==============================] - 0s 1us/step\n"
     ]
    }
   ],
   "source": [
    "(x_train, y_train), (x_test, y_test) = keras.datasets.boston_housing.load_data(\n",
    "                                            path='boston_housing.npz', test_split=0.2, seed=113)"
   ]
  },
  {
   "cell_type": "code",
   "execution_count": 11,
   "metadata": {},
   "outputs": [],
   "source": [
    "class BostonModel(keras.Model):\n",
    "    def __init__(self, dense_len=32):\n",
    "        super().__init__()\n",
    "        self.dense1 = layers.Dense(dense_len, activation='relu')\n",
    "        self.dense2 = layers.Dense(dense_len, activation='relu')\n",
    "        self.dense3 = layers.Dense(1)\n",
    "    \n",
    "    def call(self, inputs):\n",
    "        x = self.dense1(inputs)\n",
    "        x = self.dense2(x)\n",
    "        x = self.dense3(x)\n",
    "        return x"
   ]
  },
  {
   "cell_type": "code",
   "execution_count": 30,
   "metadata": {},
   "outputs": [
    {
     "name": "stdout",
     "output_type": "stream",
     "text": [
      "Train on 404 samples\n",
      "Epoch 1/10\n",
      "404/404 [==============================] - 0s 774us/sample - loss: 15785.2274 - accuracy: 0.0000e+00 - mse: 15785.2285 - mae: 119.3885\n",
      "Epoch 2/10\n",
      "404/404 [==============================] - 0s 76us/sample - loss: 2364.6683 - accuracy: 0.0000e+00 - mse: 2364.6682 - mae: 44.8264\n",
      "Epoch 3/10\n",
      "404/404 [==============================] - 0s 75us/sample - loss: 372.2786 - accuracy: 0.0000e+00 - mse: 372.2786 - mae: 16.0424\n",
      "Epoch 4/10\n",
      "404/404 [==============================] - 0s 89us/sample - loss: 155.4820 - accuracy: 0.0000e+00 - mse: 155.4820 - mae: 9.3776\n",
      "Epoch 5/10\n",
      "404/404 [==============================] - 0s 75us/sample - loss: 88.3317 - accuracy: 0.0000e+00 - mse: 88.3317 - mae: 6.6497\n",
      "Epoch 6/10\n",
      "404/404 [==============================] - 0s 88us/sample - loss: 79.5505 - accuracy: 0.0000e+00 - mse: 79.5505 - mae: 6.5873\n",
      "Epoch 7/10\n",
      "404/404 [==============================] - 0s 77us/sample - loss: 84.2660 - accuracy: 0.0000e+00 - mse: 84.2660 - mae: 6.7121\n",
      "Epoch 8/10\n",
      "404/404 [==============================] - 0s 73us/sample - loss: 82.9603 - accuracy: 0.0000e+00 - mse: 82.9604 - mae: 6.6142\n",
      "Epoch 9/10\n",
      "404/404 [==============================] - 0s 72us/sample - loss: 78.3132 - accuracy: 0.0000e+00 - mse: 78.3132 - mae: 6.4968\n",
      "Epoch 10/10\n",
      "404/404 [==============================] - 0s 78us/sample - loss: 80.4369 - accuracy: 0.0000e+00 - mse: 80.4369 - mae: 6.6822\n"
     ]
    }
   ],
   "source": [
    "model1 = BostonModel(32)\n",
    "model1.compile(optimizer=keras.optimizers.RMSprop(), #'rmsprop', \n",
    "               loss=keras.losses.MeanSquaredError(), #mse\n",
    "               metrics=['accuracy', 'mse', 'mae'])\n",
    "history = model1.fit(x_train, y_train, epochs=10, batch_size=32)\n",
    "# посмотреть history.hisory"
   ]
  },
  {
   "cell_type": "code",
   "execution_count": 33,
   "metadata": {},
   "outputs": [
    {
     "name": "stdout",
     "output_type": "stream",
     "text": [
      "102/102 [==============================] - 0s 868us/sample - loss: 73.1291 - accuracy: 0.0000e+00 - mse: 73.1291 - mae: 6.6059\n",
      "102/102 [==============================] - 0s 85us/sample - loss: 73.1291 - accuracy: 0.0000e+00 - mse: 73.1291 - mae: 6.6059\n",
      "test_loss = 73.1290921977922 test_accuracy = 0.0, test_mse_score = 73.12908935546875, test_mae_score = 6.60585880279541\n"
     ]
    }
   ],
   "source": [
    "test_loss, test_accuracy, test_mse_score, test_mae_score = model1.evaluate(x_test, y_test)\n",
    "print(f'test_loss = {test_loss} test_accuracy = {test_accuracy}, test_mse_score = {test_mse_score}, test_mae_score = {test_mae_score}')"
   ]
  },
  {
   "cell_type": "code",
   "execution_count": 23,
   "metadata": {},
   "outputs": [
    {
     "name": "stdout",
     "output_type": "stream",
     "text": [
      "[[17.861727]\n",
      " [28.71058 ]]\n"
     ]
    },
    {
     "data": {
      "text/plain": [
       "array([ 7.2, 18.8])"
      ]
     },
     "execution_count": 23,
     "metadata": {},
     "output_type": "execute_result"
    }
   ],
   "source": [
    "print(model1.predict(x_test[:2]))\n",
    "y_test[:2]"
   ]
  },
  {
   "cell_type": "code",
   "execution_count": 18,
   "metadata": {},
   "outputs": [
    {
     "name": "stdout",
     "output_type": "stream",
     "text": [
      "Model: \"boston_model_3\"\n",
      "_________________________________________________________________\n",
      "Layer (type)                 Output Shape              Param #   \n",
      "=================================================================\n",
      "dense_9 (Dense)              multiple                  448       \n",
      "_________________________________________________________________\n",
      "dense_10 (Dense)             multiple                  1056      \n",
      "_________________________________________________________________\n",
      "dense_11 (Dense)             multiple                  33        \n",
      "=================================================================\n",
      "Total params: 1,537\n",
      "Trainable params: 1,537\n",
      "Non-trainable params: 0\n",
      "_________________________________________________________________\n"
     ]
    }
   ],
   "source": [
    "model1.summary()"
   ]
  },
  {
   "cell_type": "code",
   "execution_count": 60,
   "metadata": {},
   "outputs": [
    {
     "name": "stdout",
     "output_type": "stream",
     "text": [
      "Train on 404 samples\n",
      "Epoch 1/10\n",
      "404/404 [==============================] - 0s 748us/sample - loss: 523.6310 - accuracy: 0.0000e+00 - mse: 523.6310 - mae: 21.0055\n",
      "Epoch 2/10\n",
      "404/404 [==============================] - 0s 71us/sample - loss: 419.7012 - accuracy: 0.0000e+00 - mse: 419.7012 - mae: 18.4671\n",
      "Epoch 3/10\n",
      "404/404 [==============================] - 0s 68us/sample - loss: 311.0439 - accuracy: 0.0000e+00 - mse: 311.0439 - mae: 15.4885\n",
      "Epoch 4/10\n",
      "404/404 [==============================] - 0s 83us/sample - loss: 206.4224 - accuracy: 0.0000e+00 - mse: 206.4224 - mae: 12.0350\n",
      "Epoch 5/10\n",
      "404/404 [==============================] - 0s 84us/sample - loss: 127.8640 - accuracy: 0.0000e+00 - mse: 127.8640 - mae: 8.9814\n",
      "Epoch 6/10\n",
      "404/404 [==============================] - 0s 70us/sample - loss: 79.3408 - accuracy: 0.0000e+00 - mse: 79.3408 - mae: 6.8106\n",
      "Epoch 7/10\n",
      "404/404 [==============================] - 0s 84us/sample - loss: 54.6308 - accuracy: 0.0000e+00 - mse: 54.6308 - mae: 5.5342\n",
      "Epoch 8/10\n",
      "404/404 [==============================] - 0s 84us/sample - loss: 39.2935 - accuracy: 0.0000e+00 - mse: 39.2935 - mae: 4.6663\n",
      "Epoch 9/10\n",
      "404/404 [==============================] - 0s 70us/sample - loss: 29.0307 - accuracy: 0.0000e+00 - mse: 29.0307 - mae: 3.9384\n",
      "Epoch 10/10\n",
      "404/404 [==============================] - 0s 70us/sample - loss: 22.8532 - accuracy: 0.0000e+00 - mse: 22.8532 - mae: 3.4224\n"
     ]
    }
   ],
   "source": [
    "model2 = BostonModel(64)\n",
    "model2.compile(optimizer=keras.optimizers.RMSprop(), #'rmsprop', \n",
    "               loss=keras.losses.MeanSquaredError(), #mse\n",
    "               metrics=['accuracy', 'mse', 'mae'])\n",
    "history = model2.fit(x_train, y_train, epochs=10, batch_size=32)\n",
    "# посмотреть history.hisory"
   ]
  },
  {
   "cell_type": "code",
   "execution_count": 61,
   "metadata": {},
   "outputs": [
    {
     "name": "stdout",
     "output_type": "stream",
     "text": [
      "102/102 [==============================] - 0s 721us/sample - loss: 24.3038 - accuracy: 0.0000e+00 - mse: 24.3038 - mae: 3.8534\n",
      "test_loss = 24.30380017149682 test_accuracy = 0.0, test_mse_score = 24.303802490234375, test_mae_score = 3.853358030319214\n"
     ]
    }
   ],
   "source": [
    "test_loss, test_accuracy, test_mse_score, test_mae_score = model2.evaluate(x_test, y_test)\n",
    "print(f'test_loss = {test_loss} test_accuracy = {test_accuracy}, test_mse_score = {test_mse_score}, test_mae_score = {test_mae_score}')"
   ]
  },
  {
   "cell_type": "code",
   "execution_count": 62,
   "metadata": {},
   "outputs": [
    {
     "name": "stdout",
     "output_type": "stream",
     "text": [
      "[[10.707255]\n",
      " [15.805694]]\n"
     ]
    },
    {
     "data": {
      "text/plain": [
       "array([ 7.2, 18.8])"
      ]
     },
     "execution_count": 62,
     "metadata": {},
     "output_type": "execute_result"
    }
   ],
   "source": [
    "print(model2.predict(x_test[:2]))\n",
    "y_test[:2]"
   ]
  },
  {
   "cell_type": "code",
   "execution_count": 56,
   "metadata": {},
   "outputs": [],
   "source": [
    "mean = x_train.mean(axis=0)\n",
    "std = x_train.std(axis=0)\n",
    "\n",
    "x_train = (x_train-mean)/std\n",
    "x_test = (x_test-mean)/std"
   ]
  },
  {
   "cell_type": "code",
   "execution_count": 64,
   "metadata": {},
   "outputs": [
    {
     "name": "stdout",
     "output_type": "stream",
     "text": [
      "102/102 [==============================] - 0s 664us/sample - loss: 16.8340 - accuracy: 0.0000e+00 - mse: 16.8340 - mae: 2.7194\n",
      "test_loss = 16.834031796922872 test_accuracy = 0.0, test_mse_score = 16.83403205871582, test_mae_score = 2.7194061279296875\n",
      "[[ 8.759578]\n",
      " [18.781746]]\n"
     ]
    },
    {
     "data": {
      "text/plain": [
       "array([ 7.2, 18.8])"
      ]
     },
     "execution_count": 64,
     "metadata": {},
     "output_type": "execute_result"
    }
   ],
   "source": [
    "model3 = BostonModel(64)\n",
    "model3.compile(optimizer=keras.optimizers.RMSprop(), #'rmsprop', \n",
    "               loss=keras.losses.MeanSquaredError(), #mse\n",
    "               metrics=['accuracy', 'mse', 'mae'])\n",
    "history = model3.fit(x_train, y_train, epochs=100, verbose = 0, batch_size=32)\n",
    "\n",
    "test_loss, test_accuracy, test_mse_score, test_mae_score = model3.evaluate(x_test, y_test)\n",
    "print(f'test_loss = {test_loss} test_accuracy = {test_accuracy}, test_mse_score = {test_mse_score}, test_mae_score = {test_mae_score}')\n",
    "\n",
    "print(model3.predict(x_test[:2]))\n",
    "y_test[:2]"
   ]
  },
  {
   "cell_type": "code",
   "execution_count": 72,
   "metadata": {},
   "outputs": [
    {
     "name": "stdout",
     "output_type": "stream",
     "text": [
      "processing fold # 0\n",
      "101/101 [==============================] - 0s 546us/sample - loss: 6.9707 - mse: 6.9707 - mae: 1.9101\n",
      "processing fold # 1\n",
      "101/101 [==============================] - 0s 559us/sample - loss: 10.5405 - mse: 10.5405 - mae: 2.4666\n",
      "processing fold # 2\n",
      "101/101 [==============================] - 0s 541us/sample - loss: 13.2079 - mse: 13.2079 - mae: 2.4419\n",
      "processing fold # 3\n",
      "101/101 [==============================] - 0s 555us/sample - loss: 12.1589 - mse: 12.1589 - mae: 2.4995\n",
      "[1.9100963, 2.4665961, 2.441887, 2.4995322]\n"
     ]
    }
   ],
   "source": [
    "import numpy as np\n",
    "\n",
    "k = 4\n",
    "num_val_samples = len(x_train) // k\n",
    "num_epochs = 100\n",
    "all_scores = []\n",
    "for i in range(k):\n",
    "    print('processing fold #', i)\n",
    "    # Prepare the validation data: data from partition # k\n",
    "    val_data = x_train[i * num_val_samples: (i + 1) * num_val_samples]\n",
    "    val_targets = y_train[i * num_val_samples: (i + 1) * num_val_samples]\n",
    "\n",
    "    # Prepare the training data: data from all other partitions\n",
    "    partial_train_data = np.concatenate(\n",
    "        [x_train[:i * num_val_samples],\n",
    "         x_train[(i + 1) * num_val_samples:]],\n",
    "        axis=0)\n",
    "    partial_train_targets = np.concatenate(\n",
    "        [y_train[:i * num_val_samples],\n",
    "         y_train[(i + 1) * num_val_samples:]],\n",
    "        axis=0)\n",
    "\n",
    "    # Build the Keras model (already compiled)\n",
    "#     model = build_model()\n",
    "    # Train the model (in silent mode, verbose=0)\n",
    "#     model.fit(partial_train_data, partial_train_targets,\n",
    "#               epochs=num_epochs, batch_size=1, verbose=0)\n",
    "\n",
    "    model = BostonModel(64)\n",
    "    model.compile(optimizer=keras.optimizers.RMSprop(), #'rmsprop', \n",
    "                   loss=keras.losses.MeanSquaredError(), #mse\n",
    "                   metrics=['mse', 'mae'])\n",
    "    history = model.fit(partial_train_data, partial_train_targets, \n",
    "                        epochs=num_epochs, batch_size=32, verbose=0)\n",
    "    # Evaluate the model on the validation data\n",
    "    val_loss, val_mse, val_mae = model.evaluate(val_data, val_targets)\n",
    "    all_scores.append(val_mae)\n",
    "\n",
    "print(all_scores)\n",
    "# [2.3181539, 2.0550964, 2.6995378, 2.678512]"
   ]
  },
  {
   "cell_type": "code",
   "execution_count": 73,
   "metadata": {},
   "outputs": [
    {
     "data": {
      "text/plain": [
       "2.3295279"
      ]
     },
     "execution_count": 73,
     "metadata": {},
     "output_type": "execute_result"
    }
   ],
   "source": [
    "np.mean(all_scores)"
   ]
  },
  {
   "cell_type": "code",
   "execution_count": 93,
   "metadata": {},
   "outputs": [
    {
     "name": "stdout",
     "output_type": "stream",
     "text": [
      "processing fold # 0\n",
      "processing fold # 1\n",
      "processing fold # 2\n",
      "processing fold # 3\n",
      "processing fold # 4\n",
      "processing fold # 5\n",
      "processing fold # 6\n",
      "processing fold # 7\n",
      "processing fold # 8\n",
      "processing fold # 9\n"
     ]
    }
   ],
   "source": [
    "k = 10\n",
    "num_val_samples = len(x_train) // k\n",
    "num_epochs = 500\n",
    "all_mae_histories = []\n",
    "\n",
    "# не понял при k-fold куда остальные данные девать\n",
    "# !! на них тестироваться иначе внизу прям точное попадание выводит в predict\n",
    "x_train =  np.concatenate([x_train, x_test], axis=0)\n",
    "y_train =  np.concatenate([y_train, y_test], axis=0)\n",
    "\n",
    "for i in range(k):\n",
    "    print('processing fold #', i)\n",
    "    # Prepare the validation data: data from partition # k\n",
    "    val_data = x_train[i * num_val_samples: (i + 1) * num_val_samples]\n",
    "    val_targets = y_train[i * num_val_samples: (i + 1) * num_val_samples]\n",
    "\n",
    "    # Prepare the training data: data from all other partitions\n",
    "    partial_train_data = np.concatenate(\n",
    "        [x_train[:i * num_val_samples],\n",
    "         x_train[(i + 1) * num_val_samples:]],\n",
    "        axis=0)\n",
    "    partial_train_targets = np.concatenate(\n",
    "        [y_train[:i * num_val_samples],\n",
    "         y_train[(i + 1) * num_val_samples:]],\n",
    "        axis=0)\n",
    "\n",
    "    # Build the Keras model (already compiled)\n",
    "#     model = build_model()\n",
    "    # Train the model (in silent mode, verbose=0)\n",
    "#     model.fit(partial_train_data, partial_train_targets,\n",
    "#               epochs=num_epochs, batch_size=1, verbose=0)\n",
    "\n",
    "    model = BostonModel(64)\n",
    "    model.compile(optimizer=keras.optimizers.RMSprop(), #'rmsprop', \n",
    "                   loss=keras.losses.MeanSquaredError(), #mse\n",
    "                   metrics=['mse', 'mae'])\n",
    "    history = model.fit(partial_train_data, partial_train_targets, \n",
    "                        validation_data=(val_data, val_targets),\n",
    "                        epochs=num_epochs, batch_size=32, verbose=0)\n",
    "    # Evaluate the model on the validation data\n",
    "#     val_loss, val_mse, val_mae = model.evaluate(val_data, val_targets)\n",
    "    mae_history = history.history['val_mae']\n",
    "    all_mae_histories.append(mae_history)\n",
    "\n",
    "# print(all_mae_histories)"
   ]
  },
  {
   "cell_type": "code",
   "execution_count": 94,
   "metadata": {},
   "outputs": [],
   "source": [
    "average_mae_history = [\n",
    "    np.mean([x[i] for x in all_mae_histories]) for i in range(num_epochs)]"
   ]
  },
  {
   "cell_type": "code",
   "execution_count": 95,
   "metadata": {},
   "outputs": [
    {
     "data": {
      "image/png": "[encoded data removed]",
      "text/plain": [
       "<Figure size 432x288 with 1 Axes>"
      ]
     },
     "metadata": {},
     "output_type": "display_data"
    }
   ],
   "source": [
    "import matplotlib.pyplot as plt\n",
    "import seaborn as sns\n",
    "sns.set()\n",
    "\n",
    "plt.plot(range(20, len(average_mae_history) + 1), average_mae_history[19:])\n",
    "plt.xlabel('Epochs')\n",
    "plt.ylabel('Validation MAE')\n",
    "plt.show()"
   ]
  },
  {
   "cell_type": "code",
   "execution_count": 96,
   "metadata": {},
   "outputs": [
    {
     "name": "stdout",
     "output_type": "stream",
     "text": [
      "[[ 7.328915]\n",
      " [18.649124]]\n"
     ]
    },
    {
     "data": {
      "text/plain": [
       "array([ 7.2, 18.8])"
      ]
     },
     "execution_count": 96,
     "metadata": {},
     "output_type": "execute_result"
    }
   ],
   "source": [
    "print(model.predict(x_test[:2]))\n",
    "y_test[:2]"
   ]
  },
  {
   "cell_type": "code",
   "execution_count": null,
   "metadata": {},
   "outputs": [],
   "source": []
  }
 ],
 "metadata": {
  "kernelspec": {
   "display_name": "Python 3",
   "language": "python",
   "name": "python3"
  },
  "language_info": {
   "codemirror_mode": {
    "name": "ipython",
    "version": 3
   },
   "file_extension": ".py",
   "mimetype": "text/x-python",
   "name": "python",
   "nbconvert_exporter": "python",
   "pygments_lexer": "ipython3",
   "version": "3.7.6"
  }
 },
 "nbformat": 4,
 "nbformat_minor": 4
}
