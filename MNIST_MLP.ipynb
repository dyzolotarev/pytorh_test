{
 "cells": [
  {
   "cell_type": "code",
   "execution_count": 10,
   "metadata": {},
   "outputs": [
    {
     "name": "stdout",
     "output_type": "stream",
     "text": [
      "Using PyTorch version: 1.5.1  Device: cuda\n"
     ]
    }
   ],
   "source": [
    "%matplotlib inline\n",
    "\n",
    "import torch\n",
    "import torch.nn as nn\n",
    "import torch.nn.functional as F\n",
    "from torchvision import datasets, transforms\n",
    "import seaborn as sns\n",
    "import utils\n",
    "import importlib\n",
    "sns.set()\n",
    "\n",
    "import numpy as np\n",
    "import matplotlib.pyplot as plt\n",
    "\n",
    "if torch.cuda.is_available():\n",
    "    device = torch.device('cuda')\n",
    "else:\n",
    "    device = torch.device('cpu')\n",
    "    \n",
    "print('Using PyTorch version:', torch.__version__, ' Device:', device)"
   ]
  },
  {
   "cell_type": "code",
   "execution_count": 8,
   "metadata": {
    "collapsed": true
   },
   "outputs": [],
   "source": [
    "batch_size = 32\n",
    "\n",
    "train_dataset = datasets.MNIST('./data', \n",
    "                               train=True, \n",
    "                               download=True, \n",
    "                               transform=transforms.ToTensor())\n",
    "\n",
    "validation_dataset = datasets.MNIST('./data', \n",
    "                                    train=False, \n",
    "                                    transform=transforms.ToTensor())\n",
    "\n",
    "train_loader = torch.utils.data.DataLoader(dataset=train_dataset, \n",
    "                                           batch_size=batch_size, \n",
    "                                           shuffle=True)\n",
    "\n",
    "validation_loader = torch.utils.data.DataLoader(dataset=validation_dataset, \n",
    "                                                batch_size=batch_size, \n",
    "                                                shuffle=False)"
   ]
  },
  {
   "cell_type": "code",
   "execution_count": 3,
   "metadata": {},
   "outputs": [
    {
     "name": "stdout",
     "output_type": "stream",
     "text": [
      "X_train: torch.Size([32, 1, 28, 28]) type: torch.FloatTensor\n",
      "y_train: torch.Size([32]) type: torch.LongTensor\n"
     ]
    }
   ],
   "source": [
    "for (X_train, y_train) in train_loader:\n",
    "    print('X_train:', X_train.size(), 'type:', X_train.type())\n",
    "    print('y_train:', y_train.size(), 'type:', y_train.type())\n",
    "    break"
   ]
  },
  {
   "cell_type": "code",
   "execution_count": 4,
   "metadata": {},
   "outputs": [
    {
     "data": {
      "text/plain": "<Figure size 720x72 with 10 Axes>",
      "image/png": "[encoded data removed]"
     },
     "metadata": {},
     "output_type": "display_data"
    }
   ],
   "source": [
    "pltsize=1\n",
    "plt.figure(figsize=(10*pltsize, pltsize))\n",
    "\n",
    "for i in range(10):\n",
    "    plt.subplot(1,10,i+1)\n",
    "    plt.axis('off')\n",
    "    plt.imshow(X_train[i,:,:,:].numpy().reshape(28,28), cmap=\"gray\")\n",
    "    plt.title('Class: '+str(y_train[i].item()))"
   ]
  },
  {
   "cell_type": "code",
   "execution_count": 5,
   "metadata": {},
   "outputs": [
    {
     "name": "stdout",
     "output_type": "stream",
     "text": [
      "Net(\n",
      "  (fc1): Linear(in_features=784, out_features=50, bias=True)\n",
      "  (fc1_drop): Dropout(p=0.2, inplace=False)\n",
      "  (fc2): Linear(in_features=50, out_features=50, bias=True)\n",
      "  (fc2_drop): Dropout(p=0.2, inplace=False)\n",
      "  (fc3): Linear(in_features=50, out_features=10, bias=True)\n",
      ")\n"
     ]
    }
   ],
   "source": [
    "class Net(nn.Module):\n",
    "    def __init__(self):\n",
    "        super(Net, self).__init__()\n",
    "        self.fc1 = nn.Linear(28*28, 50)\n",
    "        self.fc1_drop = nn.Dropout(0.2)\n",
    "        self.fc2 = nn.Linear(50, 50)\n",
    "        self.fc2_drop = nn.Dropout(0.2)\n",
    "        self.fc3 = nn.Linear(50, 10)\n",
    "\n",
    "    def forward(self, x):\n",
    "        x = x.view(-1, 28*28)\n",
    "        x = F.relu(self.fc1(x))\n",
    "        x = self.fc1_drop(x)\n",
    "        x = F.relu(self.fc2(x))\n",
    "        x = self.fc2_drop(x)\n",
    "        return F.log_softmax(self.fc3(x), dim=1)\n",
    "\n",
    "model = Net().to(device)\n",
    "optimizer = torch.optim.SGD(model.parameters(), lr=0.01, momentum=0.5)\n",
    "criterion = nn.CrossEntropyLoss()\n",
    "\n",
    "print(model)"
   ]
  },
  {
   "cell_type": "code",
   "execution_count": 6,
   "metadata": {
    "collapsed": true
   },
   "outputs": [],
   "source": [
    "def train(epoch, log_interval=200):\n",
    "    model.train()\n",
    "    \n",
    "    for batch_idx, (data, target) in enumerate(train_loader):\n",
    "\n",
    "        data = data.to(device)\n",
    "        target = target.to(device)\n",
    "\n",
    "        optimizer.zero_grad() \n",
    "        \n",
    "        output = model(data)\n",
    "\n",
    "        loss = criterion(output, target)\n",
    "\n",
    "        loss.backward()\n",
    "        \n",
    "        optimizer.step()\n",
    "        \n",
    "        if batch_idx % log_interval == 0:\n",
    "            print('Train Epoch: {} [{}/{} ({:.0f}%)]\\tLoss: {:.6f}'.format(\n",
    "                epoch, batch_idx * len(data), len(train_loader.dataset),\n",
    "                100. * batch_idx / len(train_loader), loss.data.item()))"
   ]
  },
  {
   "cell_type": "code",
   "execution_count": 7,
   "metadata": {
    "collapsed": true
   },
   "outputs": [],
   "source": [
    "def validate(loss_vector, accuracy_vector):\n",
    "    model.eval()\n",
    "    val_loss, correct = 0, 0\n",
    "    for data, target in validation_loader:\n",
    "        data = data.to(device)\n",
    "        target = target.to(device)\n",
    "        output = model(data)\n",
    "        val_loss += criterion(output, target).data.item()\n",
    "        pred = output.data.max(1)[1] \n",
    "        correct += pred.eq(target.data).cpu().sum()\n",
    "\n",
    "    val_loss /= len(validation_loader)\n",
    "    loss_vector.append(val_loss)\n",
    "\n",
    "    accuracy = 100. * correct.to(torch.float32) / len(validation_loader.dataset)\n",
    "    accuracy_vector.append(accuracy)\n",
    "    \n",
    "    print('\\nValidation set: Average loss: {:.4f}, Accuracy: {}/{} ({:.0f}%)\\n'.format(\n",
    "        val_loss, correct, len(validation_loader.dataset), accuracy))"
   ]
  },
  {
   "cell_type": "code",
   "execution_count": 8,
   "metadata": {},
   "outputs": [
    {
     "name": "stdout",
     "output_type": "stream",
     "text": [
      "Train Epoch: 1 [0/60000 (0%)]\tLoss: 2.329518\n",
      "Train Epoch: 1 [6400/60000 (11%)]\tLoss: 2.160527\n",
      "Train Epoch: 1 [12800/60000 (21%)]\tLoss: 1.576880\n",
      "Train Epoch: 1 [19200/60000 (32%)]\tLoss: 0.959098\n",
      "Train Epoch: 1 [25600/60000 (43%)]\tLoss: 0.684569\n",
      "Train Epoch: 1 [32000/60000 (53%)]\tLoss: 1.223702\n",
      "Train Epoch: 1 [38400/60000 (64%)]\tLoss: 0.519606\n",
      "Train Epoch: 1 [44800/60000 (75%)]\tLoss: 0.849140\n",
      "Train Epoch: 1 [51200/60000 (85%)]\tLoss: 0.495779\n",
      "Train Epoch: 1 [57600/60000 (96%)]\tLoss: 0.310991\n",
      "\n",
      "Validation set: Average loss: 0.3572, Accuracy: 8990/10000 (90%)\n",
      "\n",
      "Train Epoch: 2 [0/60000 (0%)]\tLoss: 0.360688\n",
      "Train Epoch: 2 [6400/60000 (11%)]\tLoss: 0.402951\n",
      "Train Epoch: 2 [12800/60000 (21%)]\tLoss: 0.884426\n",
      "Train Epoch: 2 [19200/60000 (32%)]\tLoss: 0.265284\n",
      "Train Epoch: 2 [25600/60000 (43%)]\tLoss: 0.535313\n",
      "Train Epoch: 2 [32000/60000 (53%)]\tLoss: 0.487233\n",
      "Train Epoch: 2 [38400/60000 (64%)]\tLoss: 0.351574\n",
      "Train Epoch: 2 [44800/60000 (75%)]\tLoss: 0.716708\n",
      "Train Epoch: 2 [51200/60000 (85%)]\tLoss: 0.549629\n",
      "Train Epoch: 2 [57600/60000 (96%)]\tLoss: 0.551874\n",
      "\n",
      "Validation set: Average loss: 0.2604, Accuracy: 9248/10000 (92%)\n",
      "\n",
      "Train Epoch: 3 [0/60000 (0%)]\tLoss: 0.256837\n",
      "Train Epoch: 3 [6400/60000 (11%)]\tLoss: 0.464955\n",
      "Train Epoch: 3 [12800/60000 (21%)]\tLoss: 0.590561\n",
      "Train Epoch: 3 [19200/60000 (32%)]\tLoss: 0.120939\n",
      "Train Epoch: 3 [25600/60000 (43%)]\tLoss: 0.333634\n",
      "Train Epoch: 3 [32000/60000 (53%)]\tLoss: 0.700368\n",
      "Train Epoch: 3 [38400/60000 (64%)]\tLoss: 0.248469\n",
      "Train Epoch: 3 [44800/60000 (75%)]\tLoss: 0.296023\n",
      "Train Epoch: 3 [51200/60000 (85%)]\tLoss: 0.385857\n",
      "Train Epoch: 3 [57600/60000 (96%)]\tLoss: 0.296623\n",
      "\n",
      "Validation set: Average loss: 0.2189, Accuracy: 9340/10000 (93%)\n",
      "\n",
      "Train Epoch: 4 [0/60000 (0%)]\tLoss: 0.427932\n",
      "Train Epoch: 4 [6400/60000 (11%)]\tLoss: 0.354471\n",
      "Train Epoch: 4 [12800/60000 (21%)]\tLoss: 0.117348\n",
      "Train Epoch: 4 [19200/60000 (32%)]\tLoss: 0.275038\n",
      "Train Epoch: 4 [25600/60000 (43%)]\tLoss: 0.303154\n",
      "Train Epoch: 4 [32000/60000 (53%)]\tLoss: 0.207642\n",
      "Train Epoch: 4 [38400/60000 (64%)]\tLoss: 0.276658\n",
      "Train Epoch: 4 [44800/60000 (75%)]\tLoss: 0.262609\n",
      "Train Epoch: 4 [51200/60000 (85%)]\tLoss: 0.332725\n",
      "Train Epoch: 4 [57600/60000 (96%)]\tLoss: 0.288648\n",
      "\n",
      "Validation set: Average loss: 0.1853, Accuracy: 9430/10000 (94%)\n",
      "\n",
      "Train Epoch: 5 [0/60000 (0%)]\tLoss: 0.277943\n",
      "Train Epoch: 5 [6400/60000 (11%)]\tLoss: 0.253726\n",
      "Train Epoch: 5 [12800/60000 (21%)]\tLoss: 0.293999\n",
      "Train Epoch: 5 [19200/60000 (32%)]\tLoss: 0.242548\n",
      "Train Epoch: 5 [25600/60000 (43%)]\tLoss: 0.166737\n",
      "Train Epoch: 5 [32000/60000 (53%)]\tLoss: 0.304364\n",
      "Train Epoch: 5 [38400/60000 (64%)]\tLoss: 0.315770\n",
      "Train Epoch: 5 [44800/60000 (75%)]\tLoss: 0.237311\n",
      "Train Epoch: 5 [51200/60000 (85%)]\tLoss: 0.265996\n",
      "Train Epoch: 5 [57600/60000 (96%)]\tLoss: 0.053933\n",
      "\n",
      "Validation set: Average loss: 0.1658, Accuracy: 9488/10000 (95%)\n",
      "\n",
      "Wall time: 44.9 s\n"
     ]
    }
   ],
   "source": [
    "%%time\n",
    "epochs = 5\n",
    "\n",
    "lossv, accv = [], []\n",
    "for epoch in range(1, epochs + 1):\n",
    "    train(epoch)\n",
    "    validate(lossv, accv)"
   ]
  },
  {
   "cell_type": "code",
   "execution_count": 9,
   "metadata": {},
   "outputs": [
    {
     "data": {
      "text/plain": "<Figure size 360x216 with 1 Axes>",
      "image/png": "[encoded data removed]"
     },
     "metadata": {},
     "output_type": "display_data"
    },
    {
     "data": {
      "text/plain": "<Figure size 360x216 with 1 Axes>",
      "image/png": "[encoded data removed]"
     },
     "metadata": {},
     "output_type": "display_data"
    }
   ],
   "source": [
    "plt.figure(figsize=(5,3))\n",
    "plt.plot(np.arange(1,epochs+1), lossv)\n",
    "plt.title('validation loss')\n",
    "\n",
    "plt.figure(figsize=(5,3))\n",
    "plt.plot(np.arange(1,epochs+1), accv)\n",
    "plt.title('validation accuracy');"
   ]
  },
  {
   "cell_type": "code",
   "execution_count": 28,
   "outputs": [
    {
     "data": {
      "text/plain": "<Figure size 80x80 with 1 Axes>",
      "image/png": "[encoded data removed]"
     },
     "metadata": {},
     "output_type": "display_data"
    }
   ],
   "source": [
    "img, val = validation_dataset[1]\n",
    "imgs = img.numpy().reshape(28,28)[np.newaxis, np.newaxis, :, :]\n",
    "\n",
    "importlib.reload(utils)\n",
    "utils.plot_mnist(imgs, [1,1])\n",
    "img = img.to(device)"
   ],
   "metadata": {
    "collapsed": false,
    "pycharm": {
     "name": "#%%\n"
    }
   }
  },
  {
   "cell_type": "code",
   "execution_count": 7,
   "outputs": [
    {
     "ename": "NameError",
     "evalue": "name 'img' is not defined",
     "output_type": "error",
     "traceback": [
      "\u001B[1;31m---------------------------------------------------------------------------\u001B[0m",
      "\u001B[1;31mNameError\u001B[0m                                 Traceback (most recent call last)",
      "\u001B[1;32m<ipython-input-7-9ce97b6e5e85>\u001B[0m in \u001B[0;36m<module>\u001B[1;34m\u001B[0m\n\u001B[1;32m----> 1\u001B[1;33m \u001B[0moutputs\u001B[0m \u001B[1;33m=\u001B[0m \u001B[0mmodel\u001B[0m\u001B[1;33m(\u001B[0m\u001B[0mimg\u001B[0m\u001B[1;33m)\u001B[0m\u001B[1;33m\u001B[0m\u001B[1;33m\u001B[0m\u001B[0m\n\u001B[0m\u001B[0;32m      2\u001B[0m \u001B[0mprint\u001B[0m\u001B[1;33m(\u001B[0m\u001B[0moutputs\u001B[0m\u001B[1;33m)\u001B[0m\u001B[1;33m\u001B[0m\u001B[1;33m\u001B[0m\u001B[0m\n\u001B[0;32m      3\u001B[0m \u001B[1;33m\u001B[0m\u001B[0m\n\u001B[0;32m      4\u001B[0m \u001B[0m_\u001B[0m\u001B[1;33m,\u001B[0m \u001B[0mpredicted\u001B[0m \u001B[1;33m=\u001B[0m \u001B[0mtorch\u001B[0m\u001B[1;33m.\u001B[0m\u001B[0mmax\u001B[0m\u001B[1;33m(\u001B[0m\u001B[0moutputs\u001B[0m\u001B[1;33m,\u001B[0m \u001B[1;36m1\u001B[0m\u001B[1;33m)\u001B[0m\u001B[1;33m\u001B[0m\u001B[1;33m\u001B[0m\u001B[0m\n\u001B[0;32m      5\u001B[0m \u001B[1;33m\u001B[0m\u001B[0m\n",
      "\u001B[1;31mNameError\u001B[0m: name 'img' is not defined"
     ]
    }
   ],
   "source": [
    "outputs = model(img)\n",
    "print(outputs)\n",
    "\n",
    "_, predicted = torch.max(outputs, 1)\n",
    "\n",
    "print(f'Predicted: {predicted.cpu().numpy()}')"
   ],
   "metadata": {
    "collapsed": false,
    "pycharm": {
     "name": "#%%\n"
    }
   }
  },
  {
   "cell_type": "code",
   "execution_count": 29,
   "outputs": [
    {
     "name": "stdout",
     "output_type": "stream",
     "text": [
      "torch.Size([32, 1, 28, 28])\n"
     ]
    },
    {
     "data": {
      "text/plain": "<Figure size 1280x160 with 32 Axes>",
      "image/png": "[encoded data removed]"
     },
     "metadata": {},
     "output_type": "display_data"
    }
   ],
   "source": [
    "#тут сразу батч будет - 32 штуки\n",
    "dataiter = iter(validation_loader)\n",
    "img, label = dataiter.next()\n",
    "\n",
    "outputs = model(img.to(device))\n",
    "_, predicted = torch.max(outputs, 1)\n",
    "\n",
    "print(img.size())\n",
    "utils.plot_mnist(img, [2, 16], list(predicted.cpu().numpy()))"
   ],
   "metadata": {
    "collapsed": false,
    "pycharm": {
     "name": "#%%\n"
    }
   }
  },
  {
   "cell_type": "code",
   "execution_count": 25,
   "outputs": [
    {
     "name": "stdout",
     "output_type": "stream",
     "text": [
      "[7, 2, 1, 0, 4, 1, 4, 9, 6, 9, 0, 6, 9, 0, 1, 5, 9, 7, 3, 4, 9, 6, 6, 5, 4, 0, 7, 4, 0, 1, 3, 1]\n",
      "<class 'list'>\n"
     ]
    }
   ],
   "source": [
    "print(list(predicted.cpu().numpy()))\n",
    "print(type(list(predicted.cpu().numpy())))"
   ],
   "metadata": {
    "collapsed": false,
    "pycharm": {
     "name": "#%%\n"
    }
   }
  },
  {
   "cell_type": "code",
   "execution_count": 46,
   "outputs": [],
   "source": [
    "import pathlib\n",
    "pathlib.Path('./models').mkdir(parents=True, exist_ok=True)\n",
    "PATH = './models/mnist1.pth'\n",
    "\n",
    "torch.save(model.state_dict(), PATH)\n"
   ],
   "metadata": {
    "collapsed": false,
    "pycharm": {
     "name": "#%%\n"
    }
   }
  },
  {
   "cell_type": "code",
   "execution_count": 19,
   "outputs": [
    {
     "data": {
      "text/plain": "<All keys matched successfully>"
     },
     "execution_count": 19,
     "metadata": {},
     "output_type": "execute_result"
    }
   ],
   "source": [
    "PATH = './models/mnist1.pth'\n",
    "model = Net().to(device)\n",
    "model.load_state_dict(torch.load(PATH, map_location=device))\n"
   ],
   "metadata": {
    "collapsed": false,
    "pycharm": {
     "name": "#%%\n"
    }
   }
  }
 ],
 "metadata": {
  "kernelspec": {
   "name": "pycharm-effedfbf",
   "language": "python",
   "display_name": "PyCharm (torch_test)"
  },
  "language_info": {
   "codemirror_mode": {
    "name": "ipython",
    "version": 3
   },
   "file_extension": ".py",
   "mimetype": "text/x-python",
   "name": "python",
   "nbconvert_exporter": "python",
   "pygments_lexer": "ipython3",
   "version": "3.6.2"
  }
 },
 "nbformat": 4,
 "nbformat_minor": 2
}